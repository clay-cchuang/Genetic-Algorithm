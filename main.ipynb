{
 "cells": [
  {
   "cell_type": "code",
   "execution_count": 1,
   "metadata": {},
   "outputs": [
    {
     "data": {
      "text/html": [
       "<div>\n",
       "<style scoped>\n",
       "    .dataframe tbody tr th:only-of-type {\n",
       "        vertical-align: middle;\n",
       "    }\n",
       "\n",
       "    .dataframe tbody tr th {\n",
       "        vertical-align: top;\n",
       "    }\n",
       "\n",
       "    .dataframe thead th {\n",
       "        text-align: right;\n",
       "    }\n",
       "</style>\n",
       "<table border=\"1\" class=\"dataframe\">\n",
       "  <thead>\n",
       "    <tr style=\"text-align: right;\">\n",
       "      <th></th>\n",
       "      <th>工單編號</th>\n",
       "      <th>產品類型</th>\n",
       "      <th>產線</th>\n",
       "      <th>填充需求數量</th>\n",
       "      <th>貼標需求數量</th>\n",
       "      <th>交期</th>\n",
       "    </tr>\n",
       "  </thead>\n",
       "  <tbody>\n",
       "    <tr>\n",
       "      <th>0</th>\n",
       "      <td>1</td>\n",
       "      <td>310</td>\n",
       "      <td>A</td>\n",
       "      <td>4778</td>\n",
       "      <td>0</td>\n",
       "      <td>2023-06-22</td>\n",
       "    </tr>\n",
       "    <tr>\n",
       "      <th>1</th>\n",
       "      <td>2</td>\n",
       "      <td>240</td>\n",
       "      <td>C</td>\n",
       "      <td>3082</td>\n",
       "      <td>0</td>\n",
       "      <td>2023-08-05</td>\n",
       "    </tr>\n",
       "    <tr>\n",
       "      <th>2</th>\n",
       "      <td>3</td>\n",
       "      <td>6000</td>\n",
       "      <td>B</td>\n",
       "      <td>3742</td>\n",
       "      <td>0</td>\n",
       "      <td>2023-07-21</td>\n",
       "    </tr>\n",
       "    <tr>\n",
       "      <th>3</th>\n",
       "      <td>4</td>\n",
       "      <td>240</td>\n",
       "      <td>C</td>\n",
       "      <td>4665</td>\n",
       "      <td>0</td>\n",
       "      <td>2023-07-07</td>\n",
       "    </tr>\n",
       "    <tr>\n",
       "      <th>4</th>\n",
       "      <td>5</td>\n",
       "      <td>240</td>\n",
       "      <td>C</td>\n",
       "      <td>3593</td>\n",
       "      <td>0</td>\n",
       "      <td>2023-07-08</td>\n",
       "    </tr>\n",
       "  </tbody>\n",
       "</table>\n",
       "</div>"
      ],
      "text/plain": [
       "   工單編號  產品類型 產線  填充需求數量  貼標需求數量         交期\n",
       "0     1   310  A    4778       0 2023-06-22\n",
       "1     2   240  C    3082       0 2023-08-05\n",
       "2     3  6000  B    3742       0 2023-07-21\n",
       "3     4   240  C    4665       0 2023-07-07\n",
       "4     5   240  C    3593       0 2023-07-08"
      ]
     },
     "execution_count": 1,
     "metadata": {},
     "output_type": "execute_result"
    }
   ],
   "source": [
    "# 匯入工單號\n",
    "import pandas as pd\n",
    "wo = pd.read_excel('WIP.xlsx')\n",
    "wo.head(5)"
   ]
  },
  {
   "cell_type": "code",
   "execution_count": 2,
   "metadata": {},
   "outputs": [],
   "source": [
    "# 轉換加工時間\n",
    "PROCESS_TIME = {\n",
    "    ('A', 330): (3600/500, 0),\n",
    "    ('A', 310): (3600/200, 0),\n",
    "    ('A', 380): (3600/300, 0),\n",
    "    ('A', 500): (3600/500, 0),\n",
    "    ('A', 600): (3600/500, 0),\n",
    "    ('B', 6000): (3600/180, 0),\n",
    "    ('B', 20000): (3600/144, 0),\n",
    "    ('B', 17250): (3600/336, 0),\n",
    "    ('C', 240): (3600/168, 0),\n",
    "    ('D', 330): (3600/500, 3600/40),\n",
    "    ('D', 380): (3600/300, 3600/40),\n",
    "    ('D', 500): (3600/500, 3600/250)\n",
    "}"
   ]
  },
  {
   "cell_type": "code",
   "execution_count": 3,
   "metadata": {},
   "outputs": [],
   "source": [
    "import random\n",
    "\n",
    "class ORDER():\n",
    "    def __init__(self, wo_id, wo_type, machine, num_fill, num_sticker, due):\n",
    "        self.wo_id = wo_id\n",
    "        self.wo_type = wo_type\n",
    "        self.machine = machine\n",
    "        self.num_fill = num_fill\n",
    "        self.num_sticker = num_sticker\n",
    "        self.due = due\n",
    "\n",
    "order_seq = []\n",
    "\n",
    "for row in range(len(wo)):\n",
    "    wo_id = wo.iloc[row]['工單編號']\n",
    "    wo_type = wo.iloc[row]['產品類型']\n",
    "    machine = wo.iloc[row]['產線']\n",
    "    num_fill = wo.iloc[row]['填充需求數量']\n",
    "    num_sticker = wo.iloc[row]['貼標需求數量']\n",
    "    due = wo.iloc[row]['交期']\n",
    "    order = ORDER(wo_id, wo_type, machine, num_fill, num_sticker, due)\n",
    "    order_seq.append(order)\n"
   ]
  },
  {
   "cell_type": "code",
   "execution_count": 4,
   "metadata": {},
   "outputs": [
    {
     "name": "stdout",
     "output_type": "stream",
     "text": [
      "maxspan:2969232.0, setup_total:31500, tardiness_total:18403200\n"
     ]
    }
   ],
   "source": [
    "from datetime import date, timedelta\n",
    "\n",
    "def fitness(order_seq):\n",
    "    # 初始化資料\n",
    "    job = []\n",
    "    start_time = []\n",
    "    finish_time = []\n",
    "    resource = []\n",
    "    machine_state_ABC = {'A':0, 'B':0, 'C':0} # ABC機台狀況\n",
    "    machine_state_D = 0 # D機台狀況\n",
    "    machine_time_ABC = {'A':0, 'B':0, 'C':0} # ABC機台時間\n",
    "    machine_time_D = 0  # D機台時間\n",
    "    all_setup_time = 0 # 時間紀錄 \n",
    "    all_tardiness_time = 0\n",
    "    previous = None # 前一單產品類型\n",
    "    today = date.today()\n",
    "    today_timestamp = pd.Timestamp(today)\n",
    "    \n",
    "    for order in order_seq:\n",
    "        wo_id = order.wo_id\n",
    "        wo_type = order.wo_type\n",
    "        machine = order.machine\n",
    "        num_fill = order.num_fill\n",
    "        num_sticker = order.num_sticker\n",
    "        due = order.due\n",
    "        # 計算填充時間跟貼標時間\n",
    "        fill_time = round(num_fill * PROCESS_TIME[(machine, wo_type)][0],0)\n",
    "        stick_time = round(num_sticker * PROCESS_TIME[(machine, wo_type)][1],0)\n",
    "        setup_time = 20 * 60\n",
    "        if previous == wo_type: # 若前一單與本單類型同，整備時間僅為5分鐘\n",
    "            setup_time = 5*60\n",
    "        all_setup_time += setup_time\n",
    "        total_process_time = fill_time + stick_time + setup_time\n",
    "        # print(f'排入工單編號:{wo_id}, 產線:{machine}, 產品類型:{wo_type}, 填充時間{fill_time}, 貼標時間:{stick_time}, 整備時間:{setup_time}, 總加工時間:{total_process_time}, DUE:{str(due)[:10]}')\n",
    "\n",
    "        order_start_time = 0\n",
    "        order_finish_time = 0\n",
    "\n",
    "        if machine in ['A', 'B', 'C']:\n",
    "            if sum(machine_state_ABC.values()) == 0: # 假如前一單是D排單\n",
    "                order_start_time = machine_time_D # 開始時間為D佔用的最後時間\n",
    "                order_finish_time = order_start_time + total_process_time # 加上本單作業時間\n",
    "                machine_state_D = 0 # 釋放D機台\n",
    "                machine_time_ABC[machine] = order_finish_time # 本單佔用機台最後時間\n",
    "                machine_state_ABC[machine] = 1 # 更新佔用某機台\n",
    "                # print(f'前單為D機台或此單為首單')\n",
    "\n",
    "            elif sum(machine_state_ABC.values()) == 1: # 假如已有一台ABC機群運作，要判斷是否沿用同台或換台了\n",
    "                previous_machine = ([current_machine for (current_machine, state) in machine_state_ABC.items() if state == 1])[0]\n",
    "                if machine == previous_machine:\n",
    "                    order_start_time = machine_time_ABC[machine]\n",
    "                    order_finish_time = order_start_time + total_process_time\n",
    "                    machine_time_ABC[machine] = order_finish_time # 本單佔用機台最後時間\n",
    "                    # print('沿用同台，持續佔用')\n",
    "                else:\n",
    "                    order_start_time = machine_time_D # 開始時間為D佔用的最後時間\n",
    "                    order_finish_time = order_start_time + total_process_time # 加上本單作業時間\n",
    "                    machine_state_D = 0 # 釋放D機台\n",
    "                    machine_time_ABC[machine] = order_finish_time # 本單佔用機台最後時間\n",
    "                    machine_state_ABC[machine] = 1 # 更新佔用某機台\n",
    "                    # print(f'插入非上一單機台')\n",
    "            else :\n",
    "                previous_machine = ([current_machine for (current_machine, state) in machine_state_ABC.items() if state == 1])\n",
    "                if machine in previous_machine:\n",
    "                    order_start_time = machine_time_ABC[machine]\n",
    "                    order_finish_time = order_start_time + total_process_time\n",
    "                    machine_time_ABC[machine] = order_finish_time # 本單佔用機台最後時間\n",
    "                    # print('沿用同台，持續佔用')\n",
    "                else:\n",
    "                    ABC_list = [(pre_machine, time) for ((pre_machine,state), time) in (zip(machine_state_ABC.items(), machine_time_ABC.values())) if state == 1] # 找ABC佔用的情況跟最後時間\n",
    "                    min_element = min(ABC_list, key=lambda x: x[1])\n",
    "                    order_start_time = min_element[1] # 開始時間為D佔用的最後時間\n",
    "                    order_finish_time = order_start_time + total_process_time # 加上本單作業時間\n",
    "                    machine_state_ABC[min_element[0]] = 0 # 釋放D機台\n",
    "                    machine_time_ABC[machine] = order_finish_time # 本單佔用機台最後時間\n",
    "                    machine_state_ABC[machine] = 1 # 更新佔用某機台\n",
    "                    # print(f'此單ABC機台已被佔用，需等待至佔用機台最早結束時間')\n",
    "        else:\n",
    "            if machine_state_D == 1:\n",
    "                order_start_time = machine_time_D\n",
    "                machine_time_D += total_process_time # 本單佔用機台最後時間\n",
    "                order_finish_time = machine_time_D\n",
    "                # print(f'繼續使用D機台')\n",
    "            elif sum(machine_state_ABC.values()) > 0:\n",
    "                ABC_list = [(pre_machine, time) for ((pre_machine,state), time) in (zip(machine_state_ABC.items(), machine_time_ABC.values())) if state == 1] # 找ABC佔用的情況跟最後時間\n",
    "                min_element = max(ABC_list, key=lambda x: x[1])\n",
    "                order_start_time = min_element[1] # 開始時間為佔用機台的最大時間\n",
    "                order_finish_time = order_start_time + total_process_time # 加上本單作業時間\n",
    "                for history in ABC_list:\n",
    "                    machine_state_ABC[history[0]] = 0\n",
    "                machine_time_D = order_finish_time # 本單佔用機台最後時間\n",
    "                machine_state_D = 1 # 更新佔用某機台\n",
    "                # print(f'此單前ABC機台已被佔用，需等待佔用機台結束後才可開工')\n",
    "            else:\n",
    "                order_start_time = machine_time_D\n",
    "                machine_time_D = total_process_time # 本單佔用機台最後時間\n",
    "                machine_state_D = 1 # 更新佔用某機台\n",
    "                order_finish_time = machine_time_D\n",
    "                # print(f'此單為首單')\n",
    "\n",
    "        previous = wo_type\n",
    "        finish_date = int(order_finish_time/(3600*24)) \n",
    "        tardiness = max((today_timestamp + timedelta(days=finish_date) - due).days,0)\n",
    "        all_tardiness_time += tardiness\n",
    "        # print(f'【真實】開始時間為{today_timestamp + timedelta(seconds=order_start_time)}，結束時間:{today_timestamp + timedelta(seconds=order_finish_time)}')\n",
    "        # print(f'【時間戳記】開始時間: {int(order_start_time)}, 結束時間:{int(order_finish_time)}, 完工日期:{str(today_timestamp + timedelta(days=finish_date))[:10]}')\n",
    "        # print(f'A:{machine_state_ABC[\"A\"]}, B:{machine_state_ABC[\"B\"]}, C:{machine_state_ABC[\"C\"]}, D:{machine_state_D}')\n",
    "        # print(f'A:{machine_time_ABC[\"A\"]}, B:{machine_time_ABC[\"B\"]}, C:{machine_time_ABC[\"C\"]}, D:{machine_time_D}')\n",
    "\n",
    "        job.append(wo_id)\n",
    "        start_time.append(today_timestamp + timedelta(seconds=order_start_time))\n",
    "        finish_time.append(today_timestamp + timedelta(seconds=order_finish_time))\n",
    "        resource.append(machine)\n",
    "        # print('------------------------------------------------------------------------------------------------------------------------------------------')\n",
    "\n",
    "    max_ABC = max(machine_time_ABC.items(), key=lambda x: x[1])[1]\n",
    "    maxspan = max_ABC\n",
    "    if max_ABC < machine_time_D:\n",
    "        maxspan = machine_time_D\n",
    "    schedule = pd.DataFrame({\"工單編號\":job, \"Start\":start_time, \"Finish\":finish_time, \"產線\":resource})\n",
    "    return maxspan, all_setup_time, all_tardiness_time*3600*24, schedule\n",
    "\n",
    "a,b,c,d = fitness(order_seq)\n",
    "print(f'maxspan:{a}, setup_total:{b}, tardiness_total:{c}')"
   ]
  },
  {
   "cell_type": "code",
   "execution_count": 5,
   "metadata": {},
   "outputs": [],
   "source": [
    "import math\n",
    "weighted_maxspan, weighted_setuptime, weighted_tardiness = 1, 0, 0\n",
    "\n",
    "def GA():\n",
    "    all_pop_order = []\n",
    "    all_pop_fitness = []\n",
    "    best_fit = []\n",
    "    best_order = []\n",
    "    # 初始解\n",
    "    for _ in range(10000):\n",
    "        shuffled_order_seq = random.sample(order_seq, len(order_seq))\n",
    "        maxspan, setuptime, tardiness, sc = fitness(shuffled_order_seq)\n",
    "        overall_fitnesee = weighted_maxspan * maxspan + weighted_setuptime * setuptime + weighted_tardiness * tardiness\n",
    "        all_pop_order.append(shuffled_order_seq)\n",
    "        all_pop_fitness.append(overall_fitnesee)\n",
    "    \n",
    "    for _ in range(1000): # 代數\n",
    "        sorted_orders = sorted([(seq, fitness) for (seq, fitness) in zip(all_pop_order, all_pop_fitness)], key=lambda x:x[1])[:2]\n",
    "        best_order.append(sorted_orders[0][0])\n",
    "        best_fit.append(sorted_orders[0][1])\n",
    "        all_pop_order = []\n",
    "        all_pop_fitness = []\n",
    "        for _ in range(1000): # 群體數\n",
    "            # 選擇前兩名進行交配\n",
    "            random_numbers = sorted(random.sample(range(0, len(order_seq)), 2))\n",
    "            best_mother = sorted_orders[0][0]\n",
    "            second_mother = sorted_orders[1][0]\n",
    "            find_segement = best_mother[random_numbers[0]:random_numbers[1]+1]\n",
    "            index_second_seg = (sorted([second_mother.index(ele) for ele in find_segement]))\n",
    "            new_segment = best_mother[0:random_numbers[0]] + [second_mother[index] for index in index_second_seg] + best_mother[random_numbers[1]+1:]\n",
    "        \n",
    "            # 隨機變異\n",
    "            rate = 0.9\n",
    "            if (random.random() < rate):\n",
    "                random_numbers = sorted(random.sample(range(0, len(order_seq)), 2))\n",
    "                new_segment[random_numbers[0]], new_segment[random_numbers[1]] = new_segment[random_numbers[1]], new_segment[random_numbers[0]]\n",
    "            maxspan, setuptime, tardiness, sc = fitness(new_segment)\n",
    "            overall_fitnesee = weighted_maxspan * maxspan + weighted_setuptime * setuptime + weighted_tardiness * tardiness\n",
    "            all_pop_order.append(new_segment.copy())\n",
    "            all_pop_fitness.append(overall_fitnesee)\n",
    "\n",
    "    return best_order, best_fit, sc\n",
    "\n",
    "order_result, fitness_result, sc = GA()"
   ]
  },
  {
   "cell_type": "code",
   "execution_count": 332,
   "metadata": {},
   "outputs": [
    {
     "data": {
      "application/vnd.plotly.v1+json": {
       "config": {
        "plotlyServerURL": "https://plot.ly"
       },
       "data": [
        {
         "alignmentgroup": "True",
         "base": [
          "2023-08-03T04:36:29",
          "2023-06-21T22:25:22",
          "2023-06-28T17:28:05",
          "2023-06-30T08:50:05",
          "2023-07-02T12:25:59",
          "2023-07-21T07:54:54",
          "2023-07-07T12:30:31",
          "2023-06-21T00:00:00",
          "2023-07-17T14:05:59",
          "2023-08-02T07:27:12",
          "2023-08-01T13:06:08",
          "2023-07-31T07:27:34",
          "2023-07-20T06:08:07",
          "2023-07-19T09:09:33",
          "2023-07-18T14:49:33",
          "2023-07-16T17:45:16",
          "2023-07-15T20:52:25",
          "2023-07-06T07:12:50",
          "2023-07-05T03:35:41",
          "2023-08-04T00:56:00",
          "2023-07-17T00:34:25",
          "2023-07-15T20:52:25",
          "2023-07-17T10:42:06",
          "2023-07-06T19:14:11",
          "2023-07-05T13:23:46",
          "2023-06-21T00:00:00",
          "2023-07-18T16:37:31",
          "2023-07-19T00:06:17",
          "2023-07-05T03:35:41",
          "2023-06-21T06:35:22"
         ],
         "hovertemplate": "Start=%{base}<br>Finish=%{x}<br>產線=%{y}<br>工單編號=%{marker.color}<extra></extra>",
         "legendgroup": "",
         "marker": {
          "color": [
           2,
           22,
           28,
           26,
           5,
           1,
           11,
           12,
           30,
           18,
           9,
           15,
           7,
           24,
           17,
           20,
           4,
           16,
           29,
           25,
           19,
           10,
           13,
           14,
           23,
           21,
           27,
           6,
           8,
           3
          ],
          "coloraxis": "coloraxis",
          "pattern": {
           "shape": ""
          }
         },
         "name": "",
         "offsetgroup": "",
         "orientation": "h",
         "showlegend": false,
         "textposition": "auto",
         "type": "bar",
         "x": [
          73171000,
          586963000,
          141720000,
          185754000,
          227382000,
          862360000,
          721314000,
          76200000,
          89014000,
          76157000,
          66064000,
          106714000,
          92807000,
          75514000,
          66000000,
          73243000,
          75171000,
          98957000,
          99429000,
          71014000,
          36461000,
          99720000,
          107725000,
          62180000,
          107425000,
          23722000,
          26926000,
          37150000,
          35285000,
          57000000
         ],
         "xaxis": "x",
         "y": [
          "D",
          "D",
          "D",
          "D",
          "D",
          "D",
          "D",
          "C",
          "C",
          "C",
          "C",
          "C",
          "C",
          "C",
          "C",
          "C",
          "C",
          "C",
          "C",
          "C",
          "B",
          "B",
          "B",
          "B",
          "B",
          "A",
          "A",
          "A",
          "A",
          "A"
         ],
         "yaxis": "y"
        }
       ],
       "layout": {
        "barmode": "overlay",
        "coloraxis": {
         "colorbar": {
          "title": {
           "text": "工單編號"
          }
         },
         "colorscale": [
          [
           0,
           "#0d0887"
          ],
          [
           0.1111111111111111,
           "#46039f"
          ],
          [
           0.2222222222222222,
           "#7201a8"
          ],
          [
           0.3333333333333333,
           "#9c179e"
          ],
          [
           0.4444444444444444,
           "#bd3786"
          ],
          [
           0.5555555555555556,
           "#d8576b"
          ],
          [
           0.6666666666666666,
           "#ed7953"
          ],
          [
           0.7777777777777778,
           "#fb9f3a"
          ],
          [
           0.8888888888888888,
           "#fdca26"
          ],
          [
           1,
           "#f0f921"
          ]
         ]
        },
        "legend": {
         "tracegroupgap": 0
        },
        "template": {
         "data": {
          "bar": [
           {
            "error_x": {
             "color": "#2a3f5f"
            },
            "error_y": {
             "color": "#2a3f5f"
            },
            "marker": {
             "line": {
              "color": "#E5ECF6",
              "width": 0.5
             },
             "pattern": {
              "fillmode": "overlay",
              "size": 10,
              "solidity": 0.2
             }
            },
            "type": "bar"
           }
          ],
          "barpolar": [
           {
            "marker": {
             "line": {
              "color": "#E5ECF6",
              "width": 0.5
             },
             "pattern": {
              "fillmode": "overlay",
              "size": 10,
              "solidity": 0.2
             }
            },
            "type": "barpolar"
           }
          ],
          "carpet": [
           {
            "aaxis": {
             "endlinecolor": "#2a3f5f",
             "gridcolor": "white",
             "linecolor": "white",
             "minorgridcolor": "white",
             "startlinecolor": "#2a3f5f"
            },
            "baxis": {
             "endlinecolor": "#2a3f5f",
             "gridcolor": "white",
             "linecolor": "white",
             "minorgridcolor": "white",
             "startlinecolor": "#2a3f5f"
            },
            "type": "carpet"
           }
          ],
          "choropleth": [
           {
            "colorbar": {
             "outlinewidth": 0,
             "ticks": ""
            },
            "type": "choropleth"
           }
          ],
          "contour": [
           {
            "colorbar": {
             "outlinewidth": 0,
             "ticks": ""
            },
            "colorscale": [
             [
              0,
              "#0d0887"
             ],
             [
              0.1111111111111111,
              "#46039f"
             ],
             [
              0.2222222222222222,
              "#7201a8"
             ],
             [
              0.3333333333333333,
              "#9c179e"
             ],
             [
              0.4444444444444444,
              "#bd3786"
             ],
             [
              0.5555555555555556,
              "#d8576b"
             ],
             [
              0.6666666666666666,
              "#ed7953"
             ],
             [
              0.7777777777777778,
              "#fb9f3a"
             ],
             [
              0.8888888888888888,
              "#fdca26"
             ],
             [
              1,
              "#f0f921"
             ]
            ],
            "type": "contour"
           }
          ],
          "contourcarpet": [
           {
            "colorbar": {
             "outlinewidth": 0,
             "ticks": ""
            },
            "type": "contourcarpet"
           }
          ],
          "heatmap": [
           {
            "colorbar": {
             "outlinewidth": 0,
             "ticks": ""
            },
            "colorscale": [
             [
              0,
              "#0d0887"
             ],
             [
              0.1111111111111111,
              "#46039f"
             ],
             [
              0.2222222222222222,
              "#7201a8"
             ],
             [
              0.3333333333333333,
              "#9c179e"
             ],
             [
              0.4444444444444444,
              "#bd3786"
             ],
             [
              0.5555555555555556,
              "#d8576b"
             ],
             [
              0.6666666666666666,
              "#ed7953"
             ],
             [
              0.7777777777777778,
              "#fb9f3a"
             ],
             [
              0.8888888888888888,
              "#fdca26"
             ],
             [
              1,
              "#f0f921"
             ]
            ],
            "type": "heatmap"
           }
          ],
          "heatmapgl": [
           {
            "colorbar": {
             "outlinewidth": 0,
             "ticks": ""
            },
            "colorscale": [
             [
              0,
              "#0d0887"
             ],
             [
              0.1111111111111111,
              "#46039f"
             ],
             [
              0.2222222222222222,
              "#7201a8"
             ],
             [
              0.3333333333333333,
              "#9c179e"
             ],
             [
              0.4444444444444444,
              "#bd3786"
             ],
             [
              0.5555555555555556,
              "#d8576b"
             ],
             [
              0.6666666666666666,
              "#ed7953"
             ],
             [
              0.7777777777777778,
              "#fb9f3a"
             ],
             [
              0.8888888888888888,
              "#fdca26"
             ],
             [
              1,
              "#f0f921"
             ]
            ],
            "type": "heatmapgl"
           }
          ],
          "histogram": [
           {
            "marker": {
             "pattern": {
              "fillmode": "overlay",
              "size": 10,
              "solidity": 0.2
             }
            },
            "type": "histogram"
           }
          ],
          "histogram2d": [
           {
            "colorbar": {
             "outlinewidth": 0,
             "ticks": ""
            },
            "colorscale": [
             [
              0,
              "#0d0887"
             ],
             [
              0.1111111111111111,
              "#46039f"
             ],
             [
              0.2222222222222222,
              "#7201a8"
             ],
             [
              0.3333333333333333,
              "#9c179e"
             ],
             [
              0.4444444444444444,
              "#bd3786"
             ],
             [
              0.5555555555555556,
              "#d8576b"
             ],
             [
              0.6666666666666666,
              "#ed7953"
             ],
             [
              0.7777777777777778,
              "#fb9f3a"
             ],
             [
              0.8888888888888888,
              "#fdca26"
             ],
             [
              1,
              "#f0f921"
             ]
            ],
            "type": "histogram2d"
           }
          ],
          "histogram2dcontour": [
           {
            "colorbar": {
             "outlinewidth": 0,
             "ticks": ""
            },
            "colorscale": [
             [
              0,
              "#0d0887"
             ],
             [
              0.1111111111111111,
              "#46039f"
             ],
             [
              0.2222222222222222,
              "#7201a8"
             ],
             [
              0.3333333333333333,
              "#9c179e"
             ],
             [
              0.4444444444444444,
              "#bd3786"
             ],
             [
              0.5555555555555556,
              "#d8576b"
             ],
             [
              0.6666666666666666,
              "#ed7953"
             ],
             [
              0.7777777777777778,
              "#fb9f3a"
             ],
             [
              0.8888888888888888,
              "#fdca26"
             ],
             [
              1,
              "#f0f921"
             ]
            ],
            "type": "histogram2dcontour"
           }
          ],
          "mesh3d": [
           {
            "colorbar": {
             "outlinewidth": 0,
             "ticks": ""
            },
            "type": "mesh3d"
           }
          ],
          "parcoords": [
           {
            "line": {
             "colorbar": {
              "outlinewidth": 0,
              "ticks": ""
             }
            },
            "type": "parcoords"
           }
          ],
          "pie": [
           {
            "automargin": true,
            "type": "pie"
           }
          ],
          "scatter": [
           {
            "fillpattern": {
             "fillmode": "overlay",
             "size": 10,
             "solidity": 0.2
            },
            "type": "scatter"
           }
          ],
          "scatter3d": [
           {
            "line": {
             "colorbar": {
              "outlinewidth": 0,
              "ticks": ""
             }
            },
            "marker": {
             "colorbar": {
              "outlinewidth": 0,
              "ticks": ""
             }
            },
            "type": "scatter3d"
           }
          ],
          "scattercarpet": [
           {
            "marker": {
             "colorbar": {
              "outlinewidth": 0,
              "ticks": ""
             }
            },
            "type": "scattercarpet"
           }
          ],
          "scattergeo": [
           {
            "marker": {
             "colorbar": {
              "outlinewidth": 0,
              "ticks": ""
             }
            },
            "type": "scattergeo"
           }
          ],
          "scattergl": [
           {
            "marker": {
             "colorbar": {
              "outlinewidth": 0,
              "ticks": ""
             }
            },
            "type": "scattergl"
           }
          ],
          "scattermapbox": [
           {
            "marker": {
             "colorbar": {
              "outlinewidth": 0,
              "ticks": ""
             }
            },
            "type": "scattermapbox"
           }
          ],
          "scatterpolar": [
           {
            "marker": {
             "colorbar": {
              "outlinewidth": 0,
              "ticks": ""
             }
            },
            "type": "scatterpolar"
           }
          ],
          "scatterpolargl": [
           {
            "marker": {
             "colorbar": {
              "outlinewidth": 0,
              "ticks": ""
             }
            },
            "type": "scatterpolargl"
           }
          ],
          "scatterternary": [
           {
            "marker": {
             "colorbar": {
              "outlinewidth": 0,
              "ticks": ""
             }
            },
            "type": "scatterternary"
           }
          ],
          "surface": [
           {
            "colorbar": {
             "outlinewidth": 0,
             "ticks": ""
            },
            "colorscale": [
             [
              0,
              "#0d0887"
             ],
             [
              0.1111111111111111,
              "#46039f"
             ],
             [
              0.2222222222222222,
              "#7201a8"
             ],
             [
              0.3333333333333333,
              "#9c179e"
             ],
             [
              0.4444444444444444,
              "#bd3786"
             ],
             [
              0.5555555555555556,
              "#d8576b"
             ],
             [
              0.6666666666666666,
              "#ed7953"
             ],
             [
              0.7777777777777778,
              "#fb9f3a"
             ],
             [
              0.8888888888888888,
              "#fdca26"
             ],
             [
              1,
              "#f0f921"
             ]
            ],
            "type": "surface"
           }
          ],
          "table": [
           {
            "cells": {
             "fill": {
              "color": "#EBF0F8"
             },
             "line": {
              "color": "white"
             }
            },
            "header": {
             "fill": {
              "color": "#C8D4E3"
             },
             "line": {
              "color": "white"
             }
            },
            "type": "table"
           }
          ]
         },
         "layout": {
          "annotationdefaults": {
           "arrowcolor": "#2a3f5f",
           "arrowhead": 0,
           "arrowwidth": 1
          },
          "autotypenumbers": "strict",
          "coloraxis": {
           "colorbar": {
            "outlinewidth": 0,
            "ticks": ""
           }
          },
          "colorscale": {
           "diverging": [
            [
             0,
             "#8e0152"
            ],
            [
             0.1,
             "#c51b7d"
            ],
            [
             0.2,
             "#de77ae"
            ],
            [
             0.3,
             "#f1b6da"
            ],
            [
             0.4,
             "#fde0ef"
            ],
            [
             0.5,
             "#f7f7f7"
            ],
            [
             0.6,
             "#e6f5d0"
            ],
            [
             0.7,
             "#b8e186"
            ],
            [
             0.8,
             "#7fbc41"
            ],
            [
             0.9,
             "#4d9221"
            ],
            [
             1,
             "#276419"
            ]
           ],
           "sequential": [
            [
             0,
             "#0d0887"
            ],
            [
             0.1111111111111111,
             "#46039f"
            ],
            [
             0.2222222222222222,
             "#7201a8"
            ],
            [
             0.3333333333333333,
             "#9c179e"
            ],
            [
             0.4444444444444444,
             "#bd3786"
            ],
            [
             0.5555555555555556,
             "#d8576b"
            ],
            [
             0.6666666666666666,
             "#ed7953"
            ],
            [
             0.7777777777777778,
             "#fb9f3a"
            ],
            [
             0.8888888888888888,
             "#fdca26"
            ],
            [
             1,
             "#f0f921"
            ]
           ],
           "sequentialminus": [
            [
             0,
             "#0d0887"
            ],
            [
             0.1111111111111111,
             "#46039f"
            ],
            [
             0.2222222222222222,
             "#7201a8"
            ],
            [
             0.3333333333333333,
             "#9c179e"
            ],
            [
             0.4444444444444444,
             "#bd3786"
            ],
            [
             0.5555555555555556,
             "#d8576b"
            ],
            [
             0.6666666666666666,
             "#ed7953"
            ],
            [
             0.7777777777777778,
             "#fb9f3a"
            ],
            [
             0.8888888888888888,
             "#fdca26"
            ],
            [
             1,
             "#f0f921"
            ]
           ]
          },
          "colorway": [
           "#636efa",
           "#EF553B",
           "#00cc96",
           "#ab63fa",
           "#FFA15A",
           "#19d3f3",
           "#FF6692",
           "#B6E880",
           "#FF97FF",
           "#FECB52"
          ],
          "font": {
           "color": "#2a3f5f"
          },
          "geo": {
           "bgcolor": "white",
           "lakecolor": "white",
           "landcolor": "#E5ECF6",
           "showlakes": true,
           "showland": true,
           "subunitcolor": "white"
          },
          "hoverlabel": {
           "align": "left"
          },
          "hovermode": "closest",
          "mapbox": {
           "style": "light"
          },
          "paper_bgcolor": "white",
          "plot_bgcolor": "#E5ECF6",
          "polar": {
           "angularaxis": {
            "gridcolor": "white",
            "linecolor": "white",
            "ticks": ""
           },
           "bgcolor": "#E5ECF6",
           "radialaxis": {
            "gridcolor": "white",
            "linecolor": "white",
            "ticks": ""
           }
          },
          "scene": {
           "xaxis": {
            "backgroundcolor": "#E5ECF6",
            "gridcolor": "white",
            "gridwidth": 2,
            "linecolor": "white",
            "showbackground": true,
            "ticks": "",
            "zerolinecolor": "white"
           },
           "yaxis": {
            "backgroundcolor": "#E5ECF6",
            "gridcolor": "white",
            "gridwidth": 2,
            "linecolor": "white",
            "showbackground": true,
            "ticks": "",
            "zerolinecolor": "white"
           },
           "zaxis": {
            "backgroundcolor": "#E5ECF6",
            "gridcolor": "white",
            "gridwidth": 2,
            "linecolor": "white",
            "showbackground": true,
            "ticks": "",
            "zerolinecolor": "white"
           }
          },
          "shapedefaults": {
           "line": {
            "color": "#2a3f5f"
           }
          },
          "ternary": {
           "aaxis": {
            "gridcolor": "white",
            "linecolor": "white",
            "ticks": ""
           },
           "baxis": {
            "gridcolor": "white",
            "linecolor": "white",
            "ticks": ""
           },
           "bgcolor": "#E5ECF6",
           "caxis": {
            "gridcolor": "white",
            "linecolor": "white",
            "ticks": ""
           }
          },
          "title": {
           "x": 0.05
          },
          "xaxis": {
           "automargin": true,
           "gridcolor": "white",
           "linecolor": "white",
           "ticks": "",
           "title": {
            "standoff": 15
           },
           "zerolinecolor": "white",
           "zerolinewidth": 2
          },
          "yaxis": {
           "automargin": true,
           "gridcolor": "white",
           "linecolor": "white",
           "ticks": "",
           "title": {
            "standoff": 15
           },
           "zerolinecolor": "white",
           "zerolinewidth": 2
          }
         }
        },
        "title": {
         "text": "Gantt Chart - by 機台"
        },
        "xaxis": {
         "anchor": "y",
         "domain": [
          0,
          1
         ],
         "type": "date"
        },
        "yaxis": {
         "anchor": "x",
         "domain": [
          0,
          1
         ],
         "title": {
          "text": "產線"
         }
        }
       }
      }
     },
     "metadata": {},
     "output_type": "display_data"
    },
    {
     "data": {
      "text/html": [
       "<div>\n",
       "<style scoped>\n",
       "    .dataframe tbody tr th:only-of-type {\n",
       "        vertical-align: middle;\n",
       "    }\n",
       "\n",
       "    .dataframe tbody tr th {\n",
       "        vertical-align: top;\n",
       "    }\n",
       "\n",
       "    .dataframe thead th {\n",
       "        text-align: right;\n",
       "    }\n",
       "</style>\n",
       "<table border=\"1\" class=\"dataframe\">\n",
       "  <thead>\n",
       "    <tr style=\"text-align: right;\">\n",
       "      <th></th>\n",
       "      <th>工單編號</th>\n",
       "      <th>Start</th>\n",
       "      <th>Finish</th>\n",
       "      <th>產線_x</th>\n",
       "      <th>產品類型</th>\n",
       "      <th>填充需求數量</th>\n",
       "      <th>貼標需求數量</th>\n",
       "      <th>交期</th>\n",
       "      <th>遲繳</th>\n",
       "    </tr>\n",
       "  </thead>\n",
       "  <tbody>\n",
       "    <tr>\n",
       "      <th>0</th>\n",
       "      <td>12</td>\n",
       "      <td>2023-06-21 00:00:00</td>\n",
       "      <td>2023-06-21 21:10:00</td>\n",
       "      <td>C</td>\n",
       "      <td>240</td>\n",
       "      <td>3500</td>\n",
       "      <td>0</td>\n",
       "      <td>2023-07-05</td>\n",
       "      <td>-14 days +21:10:00</td>\n",
       "    </tr>\n",
       "    <tr>\n",
       "      <th>1</th>\n",
       "      <td>21</td>\n",
       "      <td>2023-06-21 00:00:00</td>\n",
       "      <td>2023-06-21 06:35:22</td>\n",
       "      <td>A</td>\n",
       "      <td>500</td>\n",
       "      <td>3128</td>\n",
       "      <td>0</td>\n",
       "      <td>2023-07-05</td>\n",
       "      <td>-14 days +06:35:22</td>\n",
       "    </tr>\n",
       "    <tr>\n",
       "      <th>2</th>\n",
       "      <td>3</td>\n",
       "      <td>2023-06-21 06:35:22</td>\n",
       "      <td>2023-06-21 22:25:22</td>\n",
       "      <td>A</td>\n",
       "      <td>310</td>\n",
       "      <td>3100</td>\n",
       "      <td>0</td>\n",
       "      <td>2023-06-24</td>\n",
       "      <td>-3 days +22:25:22</td>\n",
       "    </tr>\n",
       "    <tr>\n",
       "      <th>3</th>\n",
       "      <td>22</td>\n",
       "      <td>2023-06-21 22:25:22</td>\n",
       "      <td>2023-06-28 17:28:05</td>\n",
       "      <td>D</td>\n",
       "      <td>330</td>\n",
       "      <td>3131</td>\n",
       "      <td>6258</td>\n",
       "      <td>2023-06-27</td>\n",
       "      <td>1 days 17:28:05</td>\n",
       "    </tr>\n",
       "    <tr>\n",
       "      <th>4</th>\n",
       "      <td>28</td>\n",
       "      <td>2023-06-28 17:28:05</td>\n",
       "      <td>2023-06-30 08:50:05</td>\n",
       "      <td>D</td>\n",
       "      <td>380</td>\n",
       "      <td>3775</td>\n",
       "      <td>1058</td>\n",
       "      <td>2023-06-30</td>\n",
       "      <td>0 days 08:50:05</td>\n",
       "    </tr>\n",
       "    <tr>\n",
       "      <th>5</th>\n",
       "      <td>26</td>\n",
       "      <td>2023-06-30 08:50:05</td>\n",
       "      <td>2023-07-02 12:25:59</td>\n",
       "      <td>D</td>\n",
       "      <td>380</td>\n",
       "      <td>3027</td>\n",
       "      <td>1657</td>\n",
       "      <td>2023-07-02</td>\n",
       "      <td>0 days 12:25:59</td>\n",
       "    </tr>\n",
       "    <tr>\n",
       "      <th>6</th>\n",
       "      <td>5</td>\n",
       "      <td>2023-07-02 12:25:59</td>\n",
       "      <td>2023-07-05 03:35:41</td>\n",
       "      <td>D</td>\n",
       "      <td>380</td>\n",
       "      <td>4936</td>\n",
       "      <td>1865</td>\n",
       "      <td>2023-06-29</td>\n",
       "      <td>6 days 03:35:41</td>\n",
       "    </tr>\n",
       "    <tr>\n",
       "      <th>7</th>\n",
       "      <td>29</td>\n",
       "      <td>2023-07-05 03:35:41</td>\n",
       "      <td>2023-07-06 07:12:50</td>\n",
       "      <td>C</td>\n",
       "      <td>240</td>\n",
       "      <td>4584</td>\n",
       "      <td>0</td>\n",
       "      <td>2023-07-10</td>\n",
       "      <td>-4 days +07:12:50</td>\n",
       "    </tr>\n",
       "    <tr>\n",
       "      <th>8</th>\n",
       "      <td>8</td>\n",
       "      <td>2023-07-05 03:35:41</td>\n",
       "      <td>2023-07-05 13:23:46</td>\n",
       "      <td>A</td>\n",
       "      <td>600</td>\n",
       "      <td>4734</td>\n",
       "      <td>0</td>\n",
       "      <td>2023-07-07</td>\n",
       "      <td>-2 days +13:23:46</td>\n",
       "    </tr>\n",
       "    <tr>\n",
       "      <th>9</th>\n",
       "      <td>23</td>\n",
       "      <td>2023-07-05 13:23:46</td>\n",
       "      <td>2023-07-06 19:14:11</td>\n",
       "      <td>B</td>\n",
       "      <td>20000</td>\n",
       "      <td>4249</td>\n",
       "      <td>0</td>\n",
       "      <td>2023-07-07</td>\n",
       "      <td>-1 days +19:14:11</td>\n",
       "    </tr>\n",
       "    <tr>\n",
       "      <th>10</th>\n",
       "      <td>16</td>\n",
       "      <td>2023-07-06 07:12:50</td>\n",
       "      <td>2023-07-07 10:42:07</td>\n",
       "      <td>C</td>\n",
       "      <td>240</td>\n",
       "      <td>4562</td>\n",
       "      <td>0</td>\n",
       "      <td>2023-07-13</td>\n",
       "      <td>-6 days +10:42:07</td>\n",
       "    </tr>\n",
       "    <tr>\n",
       "      <th>11</th>\n",
       "      <td>14</td>\n",
       "      <td>2023-07-06 19:14:11</td>\n",
       "      <td>2023-07-07 12:30:31</td>\n",
       "      <td>B</td>\n",
       "      <td>6000</td>\n",
       "      <td>3049</td>\n",
       "      <td>0</td>\n",
       "      <td>2023-07-08</td>\n",
       "      <td>-1 days +12:30:31</td>\n",
       "    </tr>\n",
       "    <tr>\n",
       "      <th>12</th>\n",
       "      <td>11</td>\n",
       "      <td>2023-07-07 12:30:31</td>\n",
       "      <td>2023-07-15 20:52:25</td>\n",
       "      <td>D</td>\n",
       "      <td>380</td>\n",
       "      <td>3827</td>\n",
       "      <td>7491</td>\n",
       "      <td>2023-07-10</td>\n",
       "      <td>5 days 20:52:25</td>\n",
       "    </tr>\n",
       "    <tr>\n",
       "      <th>13</th>\n",
       "      <td>4</td>\n",
       "      <td>2023-07-15 20:52:25</td>\n",
       "      <td>2023-07-16 17:45:16</td>\n",
       "      <td>C</td>\n",
       "      <td>240</td>\n",
       "      <td>3452</td>\n",
       "      <td>0</td>\n",
       "      <td>2023-07-18</td>\n",
       "      <td>-2 days +17:45:16</td>\n",
       "    </tr>\n",
       "    <tr>\n",
       "      <th>14</th>\n",
       "      <td>10</td>\n",
       "      <td>2023-07-15 20:52:25</td>\n",
       "      <td>2023-07-17 00:34:25</td>\n",
       "      <td>B</td>\n",
       "      <td>6000</td>\n",
       "      <td>4926</td>\n",
       "      <td>0</td>\n",
       "      <td>2023-07-29</td>\n",
       "      <td>-12 days +00:34:25</td>\n",
       "    </tr>\n",
       "    <tr>\n",
       "      <th>15</th>\n",
       "      <td>20</td>\n",
       "      <td>2023-07-16 17:45:16</td>\n",
       "      <td>2023-07-17 14:05:59</td>\n",
       "      <td>C</td>\n",
       "      <td>240</td>\n",
       "      <td>3362</td>\n",
       "      <td>0</td>\n",
       "      <td>2023-07-27</td>\n",
       "      <td>-10 days +14:05:59</td>\n",
       "    </tr>\n",
       "    <tr>\n",
       "      <th>16</th>\n",
       "      <td>19</td>\n",
       "      <td>2023-07-17 00:34:25</td>\n",
       "      <td>2023-07-17 10:42:06</td>\n",
       "      <td>B</td>\n",
       "      <td>17250</td>\n",
       "      <td>3291</td>\n",
       "      <td>0</td>\n",
       "      <td>2023-07-20</td>\n",
       "      <td>-3 days +10:42:06</td>\n",
       "    </tr>\n",
       "    <tr>\n",
       "      <th>17</th>\n",
       "      <td>30</td>\n",
       "      <td>2023-07-17 14:05:59</td>\n",
       "      <td>2023-07-18 14:49:33</td>\n",
       "      <td>C</td>\n",
       "      <td>240</td>\n",
       "      <td>4098</td>\n",
       "      <td>0</td>\n",
       "      <td>2023-07-30</td>\n",
       "      <td>-12 days +14:49:33</td>\n",
       "    </tr>\n",
       "    <tr>\n",
       "      <th>18</th>\n",
       "      <td>17</td>\n",
       "      <td>2023-07-18 14:49:33</td>\n",
       "      <td>2023-07-19 09:09:33</td>\n",
       "      <td>C</td>\n",
       "      <td>240</td>\n",
       "      <td>3066</td>\n",
       "      <td>0</td>\n",
       "      <td>2023-07-19</td>\n",
       "      <td>0 days 09:09:33</td>\n",
       "    </tr>\n",
       "    <tr>\n",
       "      <th>19</th>\n",
       "      <td>24</td>\n",
       "      <td>2023-07-19 09:09:33</td>\n",
       "      <td>2023-07-20 06:08:07</td>\n",
       "      <td>C</td>\n",
       "      <td>240</td>\n",
       "      <td>3510</td>\n",
       "      <td>0</td>\n",
       "      <td>2023-07-22</td>\n",
       "      <td>-2 days +06:08:07</td>\n",
       "    </tr>\n",
       "    <tr>\n",
       "      <th>20</th>\n",
       "      <td>13</td>\n",
       "      <td>2023-07-17 10:42:06</td>\n",
       "      <td>2023-07-18 16:37:31</td>\n",
       "      <td>B</td>\n",
       "      <td>20000</td>\n",
       "      <td>4261</td>\n",
       "      <td>0</td>\n",
       "      <td>2023-07-30</td>\n",
       "      <td>-12 days +16:37:31</td>\n",
       "    </tr>\n",
       "    <tr>\n",
       "      <th>21</th>\n",
       "      <td>7</td>\n",
       "      <td>2023-07-20 06:08:07</td>\n",
       "      <td>2023-07-21 07:54:54</td>\n",
       "      <td>C</td>\n",
       "      <td>240</td>\n",
       "      <td>4275</td>\n",
       "      <td>0</td>\n",
       "      <td>2023-07-24</td>\n",
       "      <td>-3 days +07:54:54</td>\n",
       "    </tr>\n",
       "    <tr>\n",
       "      <th>22</th>\n",
       "      <td>27</td>\n",
       "      <td>2023-07-18 16:37:31</td>\n",
       "      <td>2023-07-19 00:06:17</td>\n",
       "      <td>A</td>\n",
       "      <td>600</td>\n",
       "      <td>3573</td>\n",
       "      <td>0</td>\n",
       "      <td>2023-07-22</td>\n",
       "      <td>-3 days +00:06:17</td>\n",
       "    </tr>\n",
       "    <tr>\n",
       "      <th>23</th>\n",
       "      <td>6</td>\n",
       "      <td>2023-07-19 00:06:17</td>\n",
       "      <td>2023-07-19 10:25:27</td>\n",
       "      <td>A</td>\n",
       "      <td>500</td>\n",
       "      <td>4993</td>\n",
       "      <td>0</td>\n",
       "      <td>2023-08-04</td>\n",
       "      <td>-16 days +10:25:27</td>\n",
       "    </tr>\n",
       "    <tr>\n",
       "      <th>24</th>\n",
       "      <td>1</td>\n",
       "      <td>2023-07-21 07:54:54</td>\n",
       "      <td>2023-07-31 07:27:34</td>\n",
       "      <td>D</td>\n",
       "      <td>330</td>\n",
       "      <td>4043</td>\n",
       "      <td>9245</td>\n",
       "      <td>2023-06-22</td>\n",
       "      <td>39 days 07:27:34</td>\n",
       "    </tr>\n",
       "    <tr>\n",
       "      <th>25</th>\n",
       "      <td>15</td>\n",
       "      <td>2023-07-31 07:27:34</td>\n",
       "      <td>2023-08-01 13:06:08</td>\n",
       "      <td>C</td>\n",
       "      <td>240</td>\n",
       "      <td>4924</td>\n",
       "      <td>0</td>\n",
       "      <td>2023-08-01</td>\n",
       "      <td>0 days 13:06:08</td>\n",
       "    </tr>\n",
       "    <tr>\n",
       "      <th>26</th>\n",
       "      <td>9</td>\n",
       "      <td>2023-08-01 13:06:08</td>\n",
       "      <td>2023-08-02 07:27:12</td>\n",
       "      <td>C</td>\n",
       "      <td>240</td>\n",
       "      <td>3069</td>\n",
       "      <td>0</td>\n",
       "      <td>2023-08-01</td>\n",
       "      <td>1 days 07:27:12</td>\n",
       "    </tr>\n",
       "    <tr>\n",
       "      <th>27</th>\n",
       "      <td>18</td>\n",
       "      <td>2023-08-02 07:27:12</td>\n",
       "      <td>2023-08-03 04:36:29</td>\n",
       "      <td>C</td>\n",
       "      <td>240</td>\n",
       "      <td>3540</td>\n",
       "      <td>0</td>\n",
       "      <td>2023-08-02</td>\n",
       "      <td>1 days 04:36:29</td>\n",
       "    </tr>\n",
       "    <tr>\n",
       "      <th>28</th>\n",
       "      <td>2</td>\n",
       "      <td>2023-08-03 04:36:29</td>\n",
       "      <td>2023-08-04 00:56:00</td>\n",
       "      <td>D</td>\n",
       "      <td>500</td>\n",
       "      <td>4094</td>\n",
       "      <td>2951</td>\n",
       "      <td>2023-08-05</td>\n",
       "      <td>-1 days +00:56:00</td>\n",
       "    </tr>\n",
       "    <tr>\n",
       "      <th>29</th>\n",
       "      <td>25</td>\n",
       "      <td>2023-08-04 00:56:00</td>\n",
       "      <td>2023-08-04 20:39:34</td>\n",
       "      <td>C</td>\n",
       "      <td>240</td>\n",
       "      <td>3258</td>\n",
       "      <td>0</td>\n",
       "      <td>2023-08-04</td>\n",
       "      <td>0 days 20:39:34</td>\n",
       "    </tr>\n",
       "  </tbody>\n",
       "</table>\n",
       "</div>"
      ],
      "text/plain": [
       "    工單編號               Start              Finish 產線_x   產品類型  填充需求數量  貼標需求數量  \\\n",
       "0     12 2023-06-21 00:00:00 2023-06-21 21:10:00    C    240    3500       0   \n",
       "1     21 2023-06-21 00:00:00 2023-06-21 06:35:22    A    500    3128       0   \n",
       "2      3 2023-06-21 06:35:22 2023-06-21 22:25:22    A    310    3100       0   \n",
       "3     22 2023-06-21 22:25:22 2023-06-28 17:28:05    D    330    3131    6258   \n",
       "4     28 2023-06-28 17:28:05 2023-06-30 08:50:05    D    380    3775    1058   \n",
       "5     26 2023-06-30 08:50:05 2023-07-02 12:25:59    D    380    3027    1657   \n",
       "6      5 2023-07-02 12:25:59 2023-07-05 03:35:41    D    380    4936    1865   \n",
       "7     29 2023-07-05 03:35:41 2023-07-06 07:12:50    C    240    4584       0   \n",
       "8      8 2023-07-05 03:35:41 2023-07-05 13:23:46    A    600    4734       0   \n",
       "9     23 2023-07-05 13:23:46 2023-07-06 19:14:11    B  20000    4249       0   \n",
       "10    16 2023-07-06 07:12:50 2023-07-07 10:42:07    C    240    4562       0   \n",
       "11    14 2023-07-06 19:14:11 2023-07-07 12:30:31    B   6000    3049       0   \n",
       "12    11 2023-07-07 12:30:31 2023-07-15 20:52:25    D    380    3827    7491   \n",
       "13     4 2023-07-15 20:52:25 2023-07-16 17:45:16    C    240    3452       0   \n",
       "14    10 2023-07-15 20:52:25 2023-07-17 00:34:25    B   6000    4926       0   \n",
       "15    20 2023-07-16 17:45:16 2023-07-17 14:05:59    C    240    3362       0   \n",
       "16    19 2023-07-17 00:34:25 2023-07-17 10:42:06    B  17250    3291       0   \n",
       "17    30 2023-07-17 14:05:59 2023-07-18 14:49:33    C    240    4098       0   \n",
       "18    17 2023-07-18 14:49:33 2023-07-19 09:09:33    C    240    3066       0   \n",
       "19    24 2023-07-19 09:09:33 2023-07-20 06:08:07    C    240    3510       0   \n",
       "20    13 2023-07-17 10:42:06 2023-07-18 16:37:31    B  20000    4261       0   \n",
       "21     7 2023-07-20 06:08:07 2023-07-21 07:54:54    C    240    4275       0   \n",
       "22    27 2023-07-18 16:37:31 2023-07-19 00:06:17    A    600    3573       0   \n",
       "23     6 2023-07-19 00:06:17 2023-07-19 10:25:27    A    500    4993       0   \n",
       "24     1 2023-07-21 07:54:54 2023-07-31 07:27:34    D    330    4043    9245   \n",
       "25    15 2023-07-31 07:27:34 2023-08-01 13:06:08    C    240    4924       0   \n",
       "26     9 2023-08-01 13:06:08 2023-08-02 07:27:12    C    240    3069       0   \n",
       "27    18 2023-08-02 07:27:12 2023-08-03 04:36:29    C    240    3540       0   \n",
       "28     2 2023-08-03 04:36:29 2023-08-04 00:56:00    D    500    4094    2951   \n",
       "29    25 2023-08-04 00:56:00 2023-08-04 20:39:34    C    240    3258       0   \n",
       "\n",
       "           交期                 遲繳  \n",
       "0  2023-07-05 -14 days +21:10:00  \n",
       "1  2023-07-05 -14 days +06:35:22  \n",
       "2  2023-06-24  -3 days +22:25:22  \n",
       "3  2023-06-27    1 days 17:28:05  \n",
       "4  2023-06-30    0 days 08:50:05  \n",
       "5  2023-07-02    0 days 12:25:59  \n",
       "6  2023-06-29    6 days 03:35:41  \n",
       "7  2023-07-10  -4 days +07:12:50  \n",
       "8  2023-07-07  -2 days +13:23:46  \n",
       "9  2023-07-07  -1 days +19:14:11  \n",
       "10 2023-07-13  -6 days +10:42:07  \n",
       "11 2023-07-08  -1 days +12:30:31  \n",
       "12 2023-07-10    5 days 20:52:25  \n",
       "13 2023-07-18  -2 days +17:45:16  \n",
       "14 2023-07-29 -12 days +00:34:25  \n",
       "15 2023-07-27 -10 days +14:05:59  \n",
       "16 2023-07-20  -3 days +10:42:06  \n",
       "17 2023-07-30 -12 days +14:49:33  \n",
       "18 2023-07-19    0 days 09:09:33  \n",
       "19 2023-07-22  -2 days +06:08:07  \n",
       "20 2023-07-30 -12 days +16:37:31  \n",
       "21 2023-07-24  -3 days +07:54:54  \n",
       "22 2023-07-22  -3 days +00:06:17  \n",
       "23 2023-08-04 -16 days +10:25:27  \n",
       "24 2023-06-22   39 days 07:27:34  \n",
       "25 2023-08-01    0 days 13:06:08  \n",
       "26 2023-08-01    1 days 07:27:12  \n",
       "27 2023-08-02    1 days 04:36:29  \n",
       "28 2023-08-05  -1 days +00:56:00  \n",
       "29 2023-08-04    0 days 20:39:34  "
      ]
     },
     "execution_count": 332,
     "metadata": {},
     "output_type": "execute_result"
    }
   ],
   "source": [
    "import plotly.express as px\n",
    "import pandas as pd\n",
    "\n",
    "maxspan, setuptime, tardiness, sc = fitness(order_result[-1])\n",
    "sc[\"Start\"] = pd.to_datetime(sc[\"Start\"])\n",
    "sc[\"Finish\"] = pd.to_datetime(sc[\"Finish\"])\n",
    "df = sc.sort_values(by=\"產線\", ascending=False)\n",
    "\n",
    "# Create a Gantt chart\n",
    "fig = px.timeline(df, \n",
    "                  x_start=\"Start\", \n",
    "                  x_end=\"Finish\", \n",
    "                  y=\"產線\", \n",
    "                  color=\"工單編號\", \n",
    "                  title=\"Gantt Chart - by 機台\")\n",
    "\n",
    "# Show the chart\n",
    "fig.show()\n",
    "df = pd.merge(sc, wo, on='工單編號').drop(columns=['產線_y'])\n",
    "df['遲繳'] =  df['Finish'] - df['交期'] \n",
    "df"
   ]
  },
  {
   "cell_type": "code",
   "execution_count": 333,
   "metadata": {},
   "outputs": [
    {
     "data": {
      "text/plain": [
       "4579200"
      ]
     },
     "execution_count": 333,
     "metadata": {},
     "output_type": "execute_result"
    }
   ],
   "source": [
    "tardiness"
   ]
  },
  {
   "cell_type": "code",
   "execution_count": 334,
   "metadata": {},
   "outputs": [
    {
     "data": {
      "text/plain": [
       "[<matplotlib.lines.Line2D at 0x168a02e60>]"
      ]
     },
     "execution_count": 334,
     "metadata": {},
     "output_type": "execute_result"
    },
    {
     "data": {
      "image/png": "[encoded data removed]",
      "text/plain": [
       "<Figure size 432x288 with 1 Axes>"
      ]
     },
     "metadata": {
      "needs_background": "light"
     },
     "output_type": "display_data"
    }
   ],
   "source": [
    "import matplotlib.pyplot as plt\n",
    "plt.plot(fitness_result)"
   ]
  }
 ],
 "metadata": {
  "kernelspec": {
   "display_name": "base",
   "language": "python",
   "name": "python3"
  },
  "language_info": {
   "codemirror_mode": {
    "name": "ipython",
    "version": 3
   },
   "file_extension": ".py",
   "mimetype": "text/x-python",
   "name": "python",
   "nbconvert_exporter": "python",
   "pygments_lexer": "ipython3",
   "version": "3.10.6"
  },
  "orig_nbformat": 4
 },
 "nbformat": 4,
 "nbformat_minor": 2
}
